{
 "cells": [
  {
   "cell_type": "code",
   "execution_count": 44,
   "metadata": {},
   "outputs": [],
   "source": [
    "from pymongo import MongoClient\n",
    "import requests\n",
    "\n",
    "from dotenv import load_dotenv\n",
    "import os\n",
    "import re\n",
    "import json, requests\n",
    "import pandas as pd\n",
    "from pandas.io.json import json_normalize"
   ]
  },
  {
   "cell_type": "code",
   "execution_count": 45,
   "metadata": {},
   "outputs": [],
   "source": [
    "client = MongoClient()\n",
    "db = client.get_database(\"companies\")"
   ]
  },
  {
   "cell_type": "code",
   "execution_count": 46,
   "metadata": {},
   "outputs": [
    {
     "data": {
      "text/plain": [
       "True"
      ]
     },
     "execution_count": 46,
     "metadata": {},
     "output_type": "execute_result"
    }
   ],
   "source": [
    "load_dotenv()"
   ]
  },
  {
   "cell_type": "code",
   "execution_count": 22,
   "metadata": {},
   "outputs": [],
   "source": [
    "#creamos las variables para poder hacer requests en la API foursquare.\n",
    "foursquare_client_id = os.getenv(\"foursquare_client_id\")\n",
    "\n",
    "foursquare_client_secret = os.getenv(\"foursquare_client_secret\")"
   ]
  },
  {
   "cell_type": "code",
   "execution_count": 43,
   "metadata": {},
   "outputs": [],
   "source": [
    "#Hacemos unwind por oficinas, desechando las que no tengan alguna de las coordenadas latitud o longitud.\n",
    "#De esta manera creamos un listado de empresas con una unica oficina. Si anteriormente una empresa tenia 2 o más \n",
    "#oficinas, se creará un documento por cada oficina.\n",
    "\n",
    "res = db.companies.aggregate([\n",
    "                      {\"$unwind\":\"$offices\" },\n",
    "                      {\"$match\":{\"offices.latitude\":{\"$ne\":None}}},\n",
    "                      {\"$match\":{\"offices.longitude\":{\"$ne\":None}}},\n",
    "                      {\"$project\":{\"_id\":0}} # We omit the id, because when inserting into new collection, we can't\n",
    "                                             # have two documents with same id.\n",
    "                     ])\n",
    "\n",
    "db.companies_unwinded.insert_many(res)"
   ]
  },
  {
   "cell_type": "code",
   "execution_count": 52,
   "metadata": {},
   "outputs": [],
   "source": [
    "offices = db.companies_unwinded"
   ]
  },
  {
   "cell_type": "code",
   "execution_count": 53,
   "metadata": {},
   "outputs": [],
   "source": [
    "res = offices.find({},{\"offices\":1})"
   ]
  },
  {
   "cell_type": "code",
   "execution_count": 54,
   "metadata": {},
   "outputs": [],
   "source": [
    "#We will use GeoJSON Point when working in MongoDB, so will create a Sphere 2d index to get the coordinates \n",
    "#of each document.\n",
    "for c in res:\n",
    "    filt = {\"_id\":c[\"_id\"]}\n",
    "    coord = {\n",
    "              \"type\": \"Point\",\n",
    "              \"coordinates\": [c[\"offices\"][\"longitude\"], c[\"offices\"][\"latitude\"]]\n",
    "            }\n",
    "    update = {\"$set\":{\"coord\":coord}}\n",
    "    offices.update_one(filt,update)"
   ]
  },
  {
   "cell_type": "code",
   "execution_count": null,
   "metadata": {},
   "outputs": [],
   "source": [
    "#Creamos una funcion para encontrar en foursquare guarderias o escuelas infantiles a un radio de 2km \n",
    "#dadas unas coordenadas.\n",
    "def education_within_2km(latitude,longitude):\n",
    "\n",
    "    url = 'https://api.foursquare.com/v2/venues/explore'\n",
    "\n",
    "    params = dict(\n",
    "                    client_id= foursquare_client_id ,\n",
    "                    client_secret= foursquare_client_secret ,\n",
    "                    v='20180323',\n",
    "                    ll= str(latitude)+\",\"+str(longitude),\n",
    "                    categoryId=['4f4533814b9074f6e4fb0107', '4f4533804b9074f6e4fb0105'],\n",
    "                    radius = 2000,\n",
    "                    limit=5\n",
    "                )\n",
    "    resp = requests.get(url=url, params=params)\n",
    "    data = json.loads(resp.text)\n",
    "#Al buscar información desde la API de foursquare, esta nos devuelve un json con el listado de guarderias y colegios \n",
    "#infantiles. La respuesta de esta request/peticion a la API de foursquare lo convertimos a formato json. Una vez convertido, crearemos una lista de tuplas \n",
    "#cogiendo las coordenadas (latitud y longitud) de cada uno de los elementos de ese listado que hemos generado. \n",
    "#El resto de información la podemos desechar.\n",
    "    coord_items = []\n",
    "    for group in data[\"response\"][\"groups\"]:\n",
    "        for item in group[\"items\"]:\n",
    "            lat = item[\"venue\"][\"location\"][\"lat\"]            \n",
    "            lng = item[\"venue\"][\"location\"][\"lng\"]\n",
    "            coord_items.append((lat,lng))\n",
    "    return coord_items"
   ]
  },
  {
   "cell_type": "code",
   "execution_count": 100,
   "metadata": {},
   "outputs": [
    {
     "data": {
      "text/plain": [
       "[(47.60408020019531, -122.33384704589844),\n",
       " (47.601499968546136, -122.31578595907476),\n",
       " (47.61723529168316, -122.3352597198037)]"
      ]
     },
     "execution_count": 100,
     "metadata": {},
     "output_type": "execute_result"
    }
   ],
   "source": [
    "# We provide random coordinates to the function just to ensure the function works and returns coordinates nearby.\n",
    "education_coordinates = education_within_2km(47.603122, -122.333253)\n",
    "education_coordinates"
   ]
  },
  {
   "cell_type": "code",
   "execution_count": 90,
   "metadata": {},
   "outputs": [
    {
     "name": "stdout",
     "output_type": "stream",
     "text": [
      "[(47.603364, -122.333359), (47.6103008, -122.3399782)]\n"
     ]
    }
   ],
   "source": [
    "#Creamos una funcion genérica que usaremos en nuestras búsquedas en MongoDB\n",
    "#Nos hemos dado cuenta de que cada vez que hacemos queries en MongoDB, repetimos los \n",
    "#filtros relativos a busqueda geoespacial y dist. max. de 2km por lo que hemos hecho una \n",
    "#función para no repetir codigo.\n",
    "\n",
    "def filter_in_companies_within_2km(query, latitude, longitude):\n",
    "    point = {\n",
    "        \"type\":\"Point\",\n",
    "        \"coordinates\":[longitude, latitude]\n",
    "    }\n",
    "    distance_query = {\n",
    "        \"coord\":{\n",
    "            \"$near\":{\n",
    "                \"$geometry\": point,\n",
    "                \"$maxDistance\": 2000\n",
    "           }\n",
    "        }\n",
    "    }#aqui abajo juntamos los dos diccionarios en uno solo.\n",
    "    query.update(distance_query)\n",
    "    #Creamos una lista de tuplas cogiendo las coordenadas (latitud y longitud) de cada uno de \n",
    "    #los elementos de esa lista que hemos generado. El resto de información la podemos desechar.\n",
    "    coordinates = []\n",
    "    for result in offices.find(query,{\"coord\":1}):\n",
    "        coord = result[\"coord\"][\"coordinates\"]\n",
    "        coordinates.append((coord[1], coord[0]))\n",
    "        \n",
    "    return coordinates\n",
    "\n",
    "#Startups que han recaudado más de $1M y fundadas despues de 2008.\n",
    "def startups_raised_over_1m_within_2km(latitude, longitude):\n",
    "    query = {\n",
    "        \"total_money_raised\": {\n",
    "            \"$regex\": \".*M\"\n",
    "        },\n",
    "        \"founded_year\": {\n",
    "            \"$gte\": 2008\n",
    "        }\n",
    "    }#esta funcion devuelve lo que devuelve \"filter in companies within 2km\"\n",
    "    return filter_in_companies_within_2km(query, latitude, longitude)\n",
    "\n",
    "print(startups_raised_over_1m_within_2km(47.603122, -122.333253))"
   ]
  },
  {
   "cell_type": "code",
   "execution_count": 89,
   "metadata": {},
   "outputs": [
    {
     "name": "stdout",
     "output_type": "stream",
     "text": [
      "[(47.600818, -122.334117), (47.6015315, -122.335943), (47.611012, -122.333523), (47.6103008, -122.3399782), (47.6141, -122.33763), (47.615313, -122.323408), (47.6161693, -122.3451897)]\n"
     ]
    }
   ],
   "source": [
    "#Creamos una funcion para conseguir en MongoDB las coordenadas de las empresas de \n",
    "#diseño de videojuegos a un radio inferior a 2km.\n",
    "def game_design_companies_within_2km(latitude, longitude):\n",
    "    query = {\n",
    "        \"category_code\": \"games_video\"\n",
    "    }\n",
    "    return filter_in_companies_within_2km(query, latitude, longitude)\n",
    "\n",
    "print(game_design_companies_within_2km(47.603122, -122.333253))"
   ]
  },
  {
   "cell_type": "code",
   "execution_count": 93,
   "metadata": {},
   "outputs": [],
   "source": [
    "#Creamos una funcion para encontrar en foursquare lugares de ocio nocturno (nightlife spot) a un radio de 2km \n",
    "#dadas unas coordenadas.\n",
    "def nightlife_spots_within_2km(latitude,longitude):\n",
    "\n",
    "    url = 'https://api.foursquare.com/v2/venues/explore'\n",
    "\n",
    "    params = dict(\n",
    "                    client_id= foursquare_client_id ,\n",
    "                    client_secret= foursquare_client_secret,\n",
    "                    v='20180323',\n",
    "                    ll= str(latitude)+\",\"+str(longitude),\n",
    "                    categoryId=['4d4b7105d754a06376d81259'],\n",
    "                    radius = 2000,\n",
    "                    limit=10\n",
    "                )\n",
    "    resp = requests.get(url=url, params=params)\n",
    "    data = json.loads(resp.text)\n",
    "    coord_items = []\n",
    "    for group in data[\"response\"][\"groups\"]:\n",
    "        for item in group[\"items\"]:\n",
    "            lat = item[\"venue\"][\"location\"][\"lat\"]            \n",
    "            lng = item[\"venue\"][\"location\"][\"lng\"]\n",
    "            coord_items.append((lat,lng))\n",
    "    return coord_items"
   ]
  },
  {
   "cell_type": "code",
   "execution_count": 94,
   "metadata": {},
   "outputs": [
    {
     "data": {
      "text/plain": [
       "[(47.602012114767625, -122.33179258432052),\n",
       " (47.601004162802, -122.334119031303),\n",
       " (47.6001432, -122.3310024),\n",
       " (47.601737052225594, -122.33312973915179),\n",
       " (47.60011606018805, -122.3315971380008),\n",
       " (47.60808617171844, -122.33495508012143),\n",
       " (47.60524931782989, -122.34050803533015),\n",
       " (47.599290120142115, -122.33278667766864),\n",
       " (47.59800673680192, -122.32776719034055),\n",
       " (47.60089818452381, -122.33303150814028)]"
      ]
     },
     "execution_count": 94,
     "metadata": {},
     "output_type": "execute_result"
    }
   ],
   "source": [
    "nightlife_spots_coordinates = nightlife_spots_within_2km(47.603122, -122.333253)\n",
    "nightlife_spots_coordinates"
   ]
  },
  {
   "cell_type": "code",
   "execution_count": 145,
   "metadata": {},
   "outputs": [],
   "source": [
    "#Creamos una funcion para encontrar en foursquare starbucks a un radio de 1km \n",
    "#dadas unas coordenadas.\n",
    "def starbucks_within_1km(latitude,longitude):\n",
    "\n",
    "    url = 'https://api.foursquare.com/v2/venues/explore'\n",
    "\n",
    "    params = dict(\n",
    "                    client_id= foursquare_client_id ,\n",
    "                    client_secret= foursquare_client_secret ,\n",
    "                    v='20180323',\n",
    "                    ll= str(latitude)+\",\"+str(longitude),\n",
    "                    #categoryId=['4bf58dd8d48988d1e0931735'],\n",
    "                    query = \"starbucks\",\n",
    "                    radius = 1000,\n",
    "                    limit=3\n",
    "                )\n",
    "    resp = requests.get(url=url, params=params)\n",
    "    data = json.loads(resp.text)\n",
    "    coord_items = []\n",
    "    for group in data[\"response\"][\"groups\"]:\n",
    "        for item in group[\"items\"]:\n",
    "            lat = item[\"venue\"][\"location\"][\"lat\"]            \n",
    "            lng = item[\"venue\"][\"location\"][\"lng\"]\n",
    "            coord_items.append((lat,lng))\n",
    "    return coord_items\n",
    "\n",
    "###ANOTHER OPTION: SEARCH FOR VENUES\n",
    "#def starbucks_within_1km(latitude,longitude):\n",
    "#\n",
    "#    url = 'https://api.foursquare.com/v2/venues/search'###SEARCH FOR VENUES\n",
    "#\n",
    "#    params = dict(\n",
    "#                    client_id= foursquare_client_id ,\n",
    "#                    client_secret= foursquare_client_secret ,\n",
    "#                    v='20180323',\n",
    "#                    ll= str(latitude)+\",\"+str(longitude),\n",
    "#                    categoryId=['556f676fbd6a75a99038d8ec'],#venue Chain ID of Starbucks https://developer.foursquare.com/docs/build-with-foursquare/chains/\n",
    "#                    radius = 1000,\n",
    "#                    limit=3\n",
    "#                )\n",
    "#    resp = requests.get(url=url, params=params)\n",
    "#    data = json.loads(resp.text)\n",
    "#    coord_items = []\n",
    "#    for venue in data[\"response\"][\"venues\"]:\n",
    "#        lat = venue[\"location\"][\"lat\"]            \n",
    "#        lng = venue[\"location\"][\"lng\"]\n",
    "#        coord_items.append((lat,lng))\n",
    "#    return coord_items"
   ]
  },
  {
   "cell_type": "code",
   "execution_count": 147,
   "metadata": {},
   "outputs": [
    {
     "name": "stdout",
     "output_type": "stream",
     "text": [
      "{'meta': {'code': 200, 'requestId': '5fb312e6f6c31243439c66ef'}, 'response': {'suggestedFilters': {'header': 'Tap to show:', 'filters': [{'name': 'Open now', 'key': 'openNow'}]}, 'warning': {'text': 'There aren\\'t a lot of results for \"starbucks.\" Try something more general, reset your filters, or expand the search area.'}, 'headerLocation': 'Downtown Boston', 'headerFullLocation': 'Downtown Boston, Boston', 'headerLocationGranularity': 'neighborhood', 'query': 'starbucks', 'totalResults': 20, 'suggestedBounds': {'ne': {'lat': 42.36788000900001, 'lng': -71.04466310485671}, 'sw': {'lat': 42.34987999099999, 'lng': -71.0689768951433}}, 'groups': [{'type': 'Recommended Places', 'name': 'recommended', 'items': [{'reasons': {'count': 0, 'items': [{'summary': 'This spot is popular', 'type': 'general', 'reasonName': 'globalInteractionReason'}]}, 'venue': {'id': '4a670b35f964a520e1c81fe3', 'name': 'Starbucks', 'contact': {}, 'location': {'address': '240 Washington St', 'crossStreet': 'btwn Court & Water St', 'lat': 42.35814839, 'lng': -71.05817074, 'labeledLatLngs': [{'label': 'display', 'lat': 42.35814839, 'lng': -71.05817074}], 'distance': 137, 'postalCode': '02108', 'cc': 'US', 'city': 'Boston', 'state': 'MA', 'country': 'United States', 'formattedAddress': ['240 Washington St (btwn Court & Water St)', 'Boston, MA 02108', 'United States']}, 'categories': [{'id': '4bf58dd8d48988d1e0931735', 'name': 'Coffee Shop', 'pluralName': 'Coffee Shops', 'shortName': 'Coffee Shop', 'icon': {'prefix': 'https://ss3.4sqi.net/img/categories_v2/food/coffeeshop_', 'suffix': '.png'}, 'primary': True}], 'verified': True, 'stats': {'tipCount': 0, 'usersCount': 0, 'checkinsCount': 0, 'visitsCount': 0}, 'delivery': {'id': '1312239', 'url': 'https://www.grubhub.com/restaurant/starbucks-240-washington-street-boston/1312239?affiliate=1131&utm_source=foursquare-affiliate-network&utm_medium=affiliate&utm_campaign=1131&utm_content=1312239', 'provider': {'name': 'grubhub', 'icon': {'prefix': 'https://fastly.4sqi.net/img/general/cap/', 'sizes': [40, 50], 'name': '/delivery_provider_grubhub_20180129.png'}}}, 'beenHere': {'count': 0, 'lastCheckinExpiredAt': 0, 'marked': False, 'unconfirmedCount': 0}, 'photos': {'count': 0, 'groups': []}, 'hereNow': {'count': 0, 'summary': 'Nobody here', 'groups': []}}, 'referralId': 'e-0-4a670b35f964a520e1c81fe3-0'}, {'reasons': {'count': 0, 'items': [{'summary': 'This spot is popular', 'type': 'general', 'reasonName': 'globalInteractionReason'}]}, 'venue': {'id': '4af2cbfaf964a5208ae821e3', 'name': 'Starbucks', 'contact': {}, 'location': {'address': '84 State St', 'crossStreet': 'at Merchants Row', 'lat': 42.35914156082082, 'lng': -71.05554804778141, 'labeledLatLngs': [{'label': 'display', 'lat': 42.35914156082082, 'lng': -71.05554804778141}], 'distance': 108, 'postalCode': '02109', 'cc': 'US', 'city': 'Boston', 'state': 'MA', 'country': 'United States', 'formattedAddress': ['84 State St (at Merchants Row)', 'Boston, MA 02109', 'United States']}, 'categories': [{'id': '4bf58dd8d48988d1e0931735', 'name': 'Coffee Shop', 'pluralName': 'Coffee Shops', 'shortName': 'Coffee Shop', 'icon': {'prefix': 'https://ss3.4sqi.net/img/categories_v2/food/coffeeshop_', 'suffix': '.png'}, 'primary': True}], 'verified': True, 'stats': {'tipCount': 0, 'usersCount': 0, 'checkinsCount': 0, 'visitsCount': 0}, 'beenHere': {'count': 0, 'lastCheckinExpiredAt': 0, 'marked': False, 'unconfirmedCount': 0}, 'photos': {'count': 0, 'groups': []}, 'hereNow': {'count': 0, 'summary': 'Nobody here', 'groups': []}}, 'referralId': 'e-0-4af2cbfaf964a5208ae821e3-1'}, {'reasons': {'count': 0, 'items': [{'summary': 'This spot is popular', 'type': 'general', 'reasonName': 'globalInteractionReason'}]}, 'venue': {'id': '4abe640bf964a5202d8d20e3', 'name': 'Starbucks', 'contact': {}, 'location': {'address': '63-65 Court St', 'crossStreet': 'at Cambridge St', 'lat': 42.35938374, 'lng': -71.05930244, 'labeledLatLngs': [{'label': 'display', 'lat': 42.35938374, 'lng': -71.05930244}], 'distance': 211, 'postalCode': '02108', 'cc': 'US', 'city': 'Boston', 'state': 'MA', 'country': 'United States', 'formattedAddress': ['63-65 Court St (at Cambridge St)', 'Boston, MA 02108', 'United States']}, 'categories': [{'id': '4bf58dd8d48988d1e0931735', 'name': 'Coffee Shop', 'pluralName': 'Coffee Shops', 'shortName': 'Coffee Shop', 'icon': {'prefix': 'https://ss3.4sqi.net/img/categories_v2/food/coffeeshop_', 'suffix': '.png'}, 'primary': True}], 'verified': True, 'stats': {'tipCount': 0, 'usersCount': 0, 'checkinsCount': 0, 'visitsCount': 0}, 'delivery': {'id': '1318698', 'url': 'https://www.grubhub.com/restaurant/starbucks-63-court-street-boston/1318698?affiliate=1131&utm_source=foursquare-affiliate-network&utm_medium=affiliate&utm_campaign=1131&utm_content=1318698', 'provider': {'name': 'grubhub', 'icon': {'prefix': 'https://fastly.4sqi.net/img/general/cap/', 'sizes': [40, 50], 'name': '/delivery_provider_grubhub_20180129.png'}}}, 'beenHere': {'count': 0, 'lastCheckinExpiredAt': 0, 'marked': False, 'unconfirmedCount': 0}, 'photos': {'count': 0, 'groups': []}, 'hereNow': {'count': 0, 'summary': 'Nobody here', 'groups': []}}, 'referralId': 'e-0-4abe640bf964a5202d8d20e3-2'}]}]}}\n"
     ]
    },
    {
     "data": {
      "text/plain": [
       "[(42.35814839, -71.05817074),\n",
       " (42.35914156082082, -71.05554804778141),\n",
       " (42.35938374, -71.05930244)]"
      ]
     },
     "execution_count": 147,
     "metadata": {},
     "output_type": "execute_result"
    }
   ],
   "source": [
    "starbucks_coordinates = starbucks_within_1km(42.35888, -71.05682)\n",
    "starbucks_coordinates"
   ]
  },
  {
   "cell_type": "code",
   "execution_count": 141,
   "metadata": {},
   "outputs": [],
   "source": [
    "#Creamos una funcion para encontrar en foursquare AEROPUERTOS a un radio de 25km \n",
    "#dadas unas coordenadas.\n",
    "def airports_within_25km(latitude,longitude):\n",
    "\n",
    "    url = 'https://api.foursquare.com/v2/venues/explore'\n",
    "\n",
    "    params = dict(\n",
    "                    client_id= foursquare_client_id ,\n",
    "                    client_secret= foursquare_client_secret ,\n",
    "                    v='20180323',\n",
    "                    ll= str(latitude)+\",\"+str(longitude),\n",
    "                    categoryId=['4bf58dd8d48988d1eb931735'], #Airport Terminal ID\n",
    "                    radius = 25000,\n",
    "                    limit=1\n",
    "                )\n",
    "    resp = requests.get(url=url, params=params)\n",
    "    data = json.loads(resp.text)\n",
    "    coord_items = []\n",
    "    for group in data[\"response\"][\"groups\"]:\n",
    "        for item in group[\"items\"]:\n",
    "            lat = item[\"venue\"][\"location\"][\"lat\"]            \n",
    "            lng = item[\"venue\"][\"location\"][\"lng\"]\n",
    "            coord_items.append((lat,lng))\n",
    "    return coord_items"
   ]
  },
  {
   "cell_type": "code",
   "execution_count": 142,
   "metadata": {},
   "outputs": [
    {
     "data": {
      "text/plain": [
       "[(47.44358853419229, -122.302508354187)]"
      ]
     },
     "execution_count": 142,
     "metadata": {},
     "output_type": "execute_result"
    }
   ],
   "source": [
    "airports_coordinates = airports_within_25km(47.603122, -122.333253)\n",
    "airports_coordinates"
   ]
  },
  {
   "cell_type": "code",
   "execution_count": 135,
   "metadata": {},
   "outputs": [],
   "source": [
    "#Creamos una funcion para encontrar en foursquare estadios de basket a un radio de 10km \n",
    "#dadas unas coordenadas.\n",
    "def basketball_stadium_within_10km(latitude,longitude):\n",
    "\n",
    "    url = 'https://api.foursquare.com/v2/venues/explore'\n",
    "\n",
    "    params = dict(\n",
    "                    client_id= foursquare_client_id ,\n",
    "                    client_secret= foursquare_client_secret ,\n",
    "                    v='20180323',\n",
    "                    ll= str(latitude)+\",\"+str(longitude),\n",
    "                    categoryId=['4bf58dd8d48988d18b941735'], #Basketball Stadium\n",
    "                    radius = 10000,\n",
    "                    limit=1\n",
    "                )\n",
    "    resp = requests.get(url=url, params=params)\n",
    "    data = json.loads(resp.text)\n",
    "    coord_items = []\n",
    "    for group in data[\"response\"][\"groups\"]:\n",
    "        for item in group[\"items\"]:\n",
    "            lat = item[\"venue\"][\"location\"][\"lat\"]            \n",
    "            lng = item[\"venue\"][\"location\"][\"lng\"]\n",
    "            coord_items.append((lat,lng))\n",
    "    return coord_items"
   ]
  },
  {
   "cell_type": "code",
   "execution_count": 136,
   "metadata": {},
   "outputs": [
    {
     "data": {
      "text/plain": [
       "[(47.68044866290678, -122.3326198276763)]"
      ]
     },
     "execution_count": 136,
     "metadata": {},
     "output_type": "execute_result"
    }
   ],
   "source": [
    "basketball_stadium_coordinates = basketball_stadium_within_10km(47.603122, -122.333253)\n",
    "basketball_stadium_coordinates"
   ]
  },
  {
   "cell_type": "code",
   "execution_count": 137,
   "metadata": {},
   "outputs": [],
   "source": [
    "#Creamos una funcion para encontrar en foursquare Pet Services a un radio de 1km \n",
    "#dadas unas coordenadas.\n",
    "def pet_services_within_1km(latitude,longitude):\n",
    "\n",
    "    url = 'https://api.foursquare.com/v2/venues/explore'\n",
    "\n",
    "    params = dict(\n",
    "                    client_id= foursquare_client_id ,\n",
    "                    client_secret= foursquare_client_secret ,\n",
    "                    v='20180323',\n",
    "                    ll= str(latitude)+\",\"+str(longitude),\n",
    "                    categoryId=['5032897c91d4c4b30a586d69'], #Pet Services\n",
    "                    radius = 1000,\n",
    "                    limit=1\n",
    "                )\n",
    "    resp = requests.get(url=url, params=params)\n",
    "    data = json.loads(resp.text)\n",
    "    coord_items = []\n",
    "    for group in data[\"response\"][\"groups\"]:\n",
    "        for item in group[\"items\"]:\n",
    "            lat = item[\"venue\"][\"location\"][\"lat\"]            \n",
    "            lng = item[\"venue\"][\"location\"][\"lng\"]\n",
    "            coord_items.append((lat,lng))\n",
    "    return coord_items"
   ]
  },
  {
   "cell_type": "code",
   "execution_count": 138,
   "metadata": {},
   "outputs": [
    {
     "data": {
      "text/plain": [
       "[(47.601537, -122.330604)]"
      ]
     },
     "execution_count": 138,
     "metadata": {},
     "output_type": "execute_result"
    }
   ],
   "source": [
    "pet_services_coordinates = pet_services_within_1km(47.603122, -122.333253)\n",
    "pet_services_coordinates"
   ]
  },
  {
   "cell_type": "code",
   "execution_count": 139,
   "metadata": {},
   "outputs": [],
   "source": [
    "#Creamos una funcion para encontrar en foursquare Vegan Restaurants a un radio de 1km \n",
    "#dadas unas coordenadas.\n",
    "def vegan_restaurants_within_1km(latitude,longitude):\n",
    "\n",
    "    url = 'https://api.foursquare.com/v2/venues/explore'\n",
    "\n",
    "    params = dict(\n",
    "                    client_id= foursquare_client_id ,\n",
    "                    client_secret= foursquare_client_secret ,\n",
    "                    v='20180323',\n",
    "                    ll= str(latitude)+\",\"+str(longitude),\n",
    "                    categoryId=['4bf58dd8d48988d1d3941735'], #Vegan Restaurants\n",
    "                    radius = 1000,\n",
    "                    limit=3\n",
    "                )\n",
    "    resp = requests.get(url=url, params=params)\n",
    "    data = json.loads(resp.text)\n",
    "    coord_items = []\n",
    "    for group in data[\"response\"][\"groups\"]:\n",
    "        for item in group[\"items\"]:\n",
    "            lat = item[\"venue\"][\"location\"][\"lat\"]            \n",
    "            lng = item[\"venue\"][\"location\"][\"lng\"]\n",
    "            coord_items.append((lat,lng))\n",
    "    return coord_items"
   ]
  },
  {
   "cell_type": "code",
   "execution_count": 140,
   "metadata": {},
   "outputs": [
    {
     "data": {
      "text/plain": [
       "[(47.6098817, -122.3366367),\n",
       " (47.59842425921504, -122.3239498169),\n",
       " (47.60940684867868, -122.34159447826438)]"
      ]
     },
     "execution_count": 140,
     "metadata": {},
     "output_type": "execute_result"
    }
   ],
   "source": [
    "vegan_restaurants_coordinates = vegan_restaurants_within_1km(47.603122, -122.333253)\n",
    "vegan_restaurants_coordinates"
   ]
  },
  {
   "cell_type": "code",
   "execution_count": 143,
   "metadata": {},
   "outputs": [
    {
     "name": "stdout",
     "output_type": "stream",
     "text": [
      "{'name': 'Bandsintown', 'coord': {'coordinates': [-71.05682, 42.35888]}, 'rank': 447}\n",
      "{'name': 'Cuts', 'coord': {'coordinates': [-117.163841, 32.718834]}, 'rank': 382}\n",
      "{'name': 'MindTouch', 'coord': {'coordinates': [-117.167831, 32.720656]}, 'rank': 382}\n",
      "{'name': 'Goowy', 'coord': {'coordinates': [-117.163353, 32.71537]}, 'rank': 382}\n",
      "{'name': 'CheerOutLoud', 'coord': {'coordinates': [-117.163841, 32.718834]}, 'rank': 382}\n",
      "{'name': 'Repptide', 'coord': {'coordinates': [-117.1565, 32.7154]}, 'rank': 382}\n",
      "{'name': 'Vidmeter', 'coord': {'coordinates': [-117.163841, 32.718834]}, 'rank': 382}\n",
      "{'name': 'Rondee', 'coord': {'coordinates': [-117.163841, 32.718834]}, 'rank': 382}\n",
      "{'name': 'Dandelife', 'coord': {'coordinates': [-117.166941, 32.72038]}, 'rank': 382}\n",
      "{'name': 'Gridjit', 'coord': {'coordinates': [-117.163841, 32.718834]}, 'rank': 382}\n",
      "{'name': 'Geary Interactive', 'coord': {'coordinates': [-117.160661, 32.718379]}, 'rank': 382}\n",
      "{'name': 'The Linkup', 'coord': {'coordinates': [-117.158821, 32.718218]}, 'rank': 382}\n",
      "{'name': 'Galaxy', 'coord': {'coordinates': [-117.163841, 32.718834]}, 'rank': 382}\n",
      "{'name': 'FiveSprockets', 'coord': {'coordinates': [-117.158793, 32.717797]}, 'rank': 382}\n",
      "{'name': 'Galaxy', 'coord': {'coordinates': [-117.163841, 32.718834]}, 'rank': 382}\n",
      "{'name': 'FiveSprockets', 'coord': {'coordinates': [-117.158793, 32.717797]}, 'rank': 382}\n",
      "{'name': 'Naughty America', 'coord': {'coordinates': [-117.158798, 32.715414]}, 'rank': 382}\n",
      "{'name': 'StockTwits', 'coord': {'coordinates': [-117.168697, 32.7161896]}, 'rank': 382}\n",
      "{'name': 'ID Analytics', 'coord': {'coordinates': [-117.1565, 32.7154]}, 'rank': 382}\n",
      "{'name': 'Empty Clip Studios', 'coord': {'coordinates': [-117.166932, 32.716294]}, 'rank': 382}\n",
      "{'name': 'effortlessE', 'coord': {'coordinates': [-117.163841, 32.718834]}, 'rank': 382}\n",
      "{'name': 'Intercasting', 'coord': {'coordinates': [-117.163841, 32.718834]}, 'rank': 382}\n",
      "{'name': 'Mindgruve', 'coord': {'coordinates': [-117.1574252, 32.7160497]}, 'rank': 382}\n",
      "{'name': \"Don't Blink Design\", 'coord': {'coordinates': [-117.1673934, 32.7194538]}, 'rank': 382}\n",
      "{'name': 'PacketVideo', 'coord': {'coordinates': [-117.163841, 32.718834]}, 'rank': 382}\n",
      "{'name': 'REApplications', 'coord': {'coordinates': [-117.167105, 32.717244]}, 'rank': 382}\n",
      "{'name': 'FragMob', 'coord': {'coordinates': [-118.36543, 34.063441]}, 'rank': 362}\n",
      "{'name': 'Google And Blog', 'coord': {'coordinates': [-117.211077, 32.867073]}, 'rank': 327}\n",
      "{'name': 'Verimatrix', 'coord': {'coordinates': [-117.175733, 32.903248]}, 'rank': 317}\n",
      "{'name': 'Chumby', 'coord': {'coordinates': [-117.240799, 32.939673]}, 'rank': 317}\n",
      "{'name': 'Daycom Systems', 'coord': {'coordinates': [-117.172711, 32.901367]}, 'rank': 317}\n",
      "{'name': 'Imagine Communications', 'coord': {'coordinates': [-117.2398594, 32.9388917]}, 'rank': 317}\n",
      "{'name': 'Eventful', 'coord': {'coordinates': [-117.206292, 32.872081]}, 'rank': 307}\n",
      "{'name': 'Nirvanix', 'coord': {'coordinates': [-117.210595, 32.877656]}, 'rank': 307}\n",
      "{'name': 'RiffTrax', 'coord': {'coordinates': [-117.240431, 32.936973]}, 'rank': 307}\n",
      "{'name': 'Taaz', 'coord': {'coordinates': [-117.211102, 32.874129]}, 'rank': 307}\n",
      "{'name': 'Vocio', 'coord': {'coordinates': [-117.241546, 32.944905]}, 'rank': 307}\n",
      "{'name': 'The Creators Vault', 'coord': {'coordinates': [-117.231187, 32.939893]}, 'rank': 307}\n",
      "{'name': 'BrightScope', 'coord': {'coordinates': [-117.2117395, 32.873081]}, 'rank': 307}\n",
      "{'name': 'ePartners', 'coord': {'coordinates': [-117.210595, 32.877656]}, 'rank': 307}\n",
      "{'name': 'Cypress Bioscience', 'coord': {'coordinates': [-117.212163, 32.875901]}, 'rank': 297}\n",
      "{'name': 'Digital-Telepathy', 'coord': {'coordinates': [-117.160619, 32.736369]}, 'rank': 287}\n",
      "{'name': 'Phonerental', 'coord': {'coordinates': [-117.211471, 32.74444]}, 'rank': 287}\n",
      "{'name': 'OnlineBootyCall', 'coord': {'coordinates': [-117.1566968, 32.7674437]}, 'rank': 287}\n",
      "{'name': 'Artistic Hub', 'coord': {'coordinates': [-117.12978, 32.744551]}, 'rank': 287}\n",
      "{'name': 'Websense', 'coord': {'coordinates': [-117.211026, 32.890757]}, 'rank': 282}\n",
      "{'name': 'Actimis Pharmaceuticals', 'coord': {'coordinates': [-117.236374, 32.902232]}, 'rank': 282}\n",
      "{'name': 'Axikin Pharmaceuticals', 'coord': {'coordinates': [-117.236374, 32.902232]}, 'rank': 282}\n",
      "{'name': 'Slacker', 'coord': {'coordinates': [-117.081406, 33.022176]}, 'rank': 277}\n",
      "{'name': 'Covario', 'coord': {'coordinates': [-117.114827, 32.912063]}, 'rank': 277}\n",
      "{'name': 'DivX', 'coord': {'coordinates': [-117.203309, 32.880882]}, 'rank': 272}\n",
      "{'name': 'Dial Plus', 'coord': {'coordinates': [-117.171819, 32.745998]}, 'rank': 272}\n",
      "{'name': 'GigTide', 'coord': {'coordinates': [-117.1676501, 32.749789]}, 'rank': 272}\n",
      "{'name': 'Fresh Echo Interactive', 'coord': {'coordinates': [-117.236558, 32.801402]}, 'rank': 272}\n",
      "{'name': 'Colizer', 'coord': {'coordinates': [-117.230732, 32.953441]}, 'rank': 267}\n",
      "{'name': 'ConferenceSuite', 'coord': {'coordinates': [-117.230732, 32.953441]}, 'rank': 267}\n",
      "{'name': 'Extreme Planner', 'coord': {'coordinates': [-117.113212, 32.940318]}, 'rank': 262}\n",
      "{'name': 'Veoh', 'coord': {'coordinates': [-117.20834, 32.902266]}, 'rank': 257}\n",
      "{'name': 'MapVersa', 'coord': {'coordinates': [-117.20834, 32.902266]}, 'rank': 257}\n",
      "{'name': 'Tachyon Networks', 'coord': {'coordinates': [-117.176096, 32.88791]}, 'rank': 257}\n",
      "{'name': 'Asteres', 'coord': {'coordinates': [-117.176096, 32.88791]}, 'rank': 257}\n",
      "{'name': 'Pathway Genomics', 'coord': {'coordinates': [-117.218164, 32.902576]}, 'rank': 257}\n",
      "{'name': 'Zotec Partners', 'coord': {'coordinates': [-117.176561, 32.903452]}, 'rank': 257}\n",
      "{'name': 'Arena Pharmaceuticals', 'coord': {'coordinates': [-117.184408, 32.889321]}, 'rank': 257}\n",
      "{'name': 'CxT Group', 'coord': {'coordinates': [-117.079074, 32.754305]}, 'rank': 252}\n",
      "{'name': 'Anacomp', 'coord': {'coordinates': [-117.082032, 32.994888]}, 'rank': 252}\n",
      "{'name': 'Qualcomm', 'coord': {'coordinates': [-117.195414, 32.89746]}, 'rank': 242}\n",
      "{'name': 'RoyaltyShare', 'coord': {'coordinates': [-117.200035, 32.893366]}, 'rank': 242}\n",
      "{'name': 'RoyaltyShare', 'coord': {'coordinates': [-117.200035, 32.893366]}, 'rank': 242}\n",
      "{'name': 'American Internet Services (AIS)', 'coord': {'coordinates': [-117.201076, 32.897274]}, 'rank': 242}\n",
      "{'name': 'Avaak', 'coord': {'coordinates': [-117.201076, 32.897274]}, 'rank': 242}\n",
      "{'name': 'Optimum Energy', 'coord': {'coordinates': [-117.098216, 32.8386414]}, 'rank': 242}\n",
      "{'name': 'GreatCall', 'coord': {'coordinates': [-117.265191, 32.964294]}, 'rank': 237}\n",
      "{'name': 'PhoneFavs', 'coord': {'coordinates': [-117.233586, 32.7907]}, 'rank': 237}\n",
      "{'name': 'teamr', 'coord': {'coordinates': [-117.2646723, 32.9956666]}, 'rank': 237}\n",
      "{'name': 'NewCondosOnline', 'coord': {'coordinates': [-117.138264, 32.775136]}, 'rank': 232}\n",
      "{'name': 'Pelotonics', 'coord': {'coordinates': [-117.200712, 32.891152]}, 'rank': 232}\n",
      "{'name': 'Sequoia Communications', 'coord': {'coordinates': [-117.080769, 32.988247]}, 'rank': 232}\n",
      "{'name': 'Sequoia Communications', 'coord': {'coordinates': [-117.080769, 32.988247]}, 'rank': 232}\n",
      "{'name': '3K Interactive', 'coord': {'coordinates': [-117.143917, 32.774948]}, 'rank': 232}\n",
      "{'name': 'WiredRed', 'coord': {'coordinates': [-117.124214, 32.84014]}, 'rank': 227}\n",
      "{'name': 'Symwave', 'coord': {'coordinates': [-117.213662, 32.895532]}, 'rank': 227}\n",
      "{'name': 'Tapioca Mobile', 'coord': {'coordinates': [-117.166929, 32.88945]}, 'rank': 222}\n",
      "{'name': 'Top Rated Website Designers', 'coord': {'coordinates': [-117.3205123, 33.1412124]}, 'rank': 222}\n",
      "{'name': 'Staccato Communications', 'coord': {'coordinates': [-117.194815, 32.899333]}, 'rank': 217}\n",
      "{'name': 'Sangart', 'coord': {'coordinates': [-117.1948, 32.89929]}, 'rank': 217}\n",
      "{'name': 'Intuit', 'coord': {'coordinates': [-117.158245, 32.957695]}, 'rank': 212}\n",
      "{'name': 'Iomega', 'coord': {'coordinates': [-117.228663, 32.915856]}, 'rank': 212}\n",
      "{'name': 'Globaltel Media', 'coord': {'coordinates': [-117.213485, 32.920614]}, 'rank': 212}\n",
      "{'name': 'BrainCells', 'coord': {'coordinates': [-117.237211, 32.893712]}, 'rank': 212}\n",
      "{'name': 'Astute Medical', 'coord': {'coordinates': [-117.234724, 32.894045]}, 'rank': 212}\n",
      "{'name': 'Tragara', 'coord': {'coordinates': [-117.228663, 32.915856]}, 'rank': 212}\n",
      "{'name': 'Anadys', 'coord': {'coordinates': [-117.238544, 32.901186]}, 'rank': 212}\n",
      "{'name': 'mTraks', 'coord': {'coordinates': [-117.200492, 32.901317]}, 'rank': 207}\n",
      "{'name': 'Ajax13', 'coord': {'coordinates': [-117.191342, 32.895267]}, 'rank': 207}\n",
      "{'name': 'Linspire', 'coord': {'coordinates': [-117.191342, 32.895267]}, 'rank': 207}\n",
      "{'name': 'StoneFly', 'coord': {'coordinates': [-117.188304, 32.894501]}, 'rank': 207}\n",
      "{'name': 'MP3Tunes', 'coord': {'coordinates': [-117.191342, 32.895267]}, 'rank': 207}\n",
      "{'name': 'Miva Merchant', 'coord': {'coordinates': [-117.18602, 32.851846]}, 'rank': 207}\n",
      "{'name': 'Viva Vision', 'coord': {'coordinates': [-117.188987, 32.903231]}, 'rank': 207}\n",
      "{'name': 'Spreadtrum Communications', 'coord': {'coordinates': [-117.191342, 32.895267]}, 'rank': 207}\n",
      "{'name': 'SOMARK Innovations', 'coord': {'coordinates': [-117.192242, 32.896253]}, 'rank': 207}\n",
      "{'name': 'BillMyParents', 'coord': {'coordinates': [-117.200492, 32.901317]}, 'rank': 207}\n",
      "{'name': 'Entropic Communications', 'coord': {'coordinates': [-117.186043, 32.904991]}, 'rank': 207}\n",
      "{'name': 'MaxPowerSoft', 'coord': {'coordinates': [-117.091176, 32.908601]}, 'rank': 202}\n",
      "{'name': 'American Internet Services (AIS)', 'coord': {'coordinates': [-117.129943, 32.829041]}, 'rank': 197}\n",
      "{'name': 'American Internet Services (AIS)', 'coord': {'coordinates': [-117.134283, 32.829977]}, 'rank': 197}\n",
      "{'name': 'Sony', 'coord': {'coordinates': [-95.712891, 37.09024]}, 'rank': 175}\n",
      "{'name': 'RealAge', 'coord': {'coordinates': [-95.712891, 37.09024]}, 'rank': 175}\n",
      "{'name': 'KidZui', 'coord': {'coordinates': [-95.712891, 37.09024]}, 'rank': 175}\n",
      "{'name': 'RegOnline', 'coord': {'coordinates': [-105.1110024, 39.9195028]}, 'rank': 162}\n",
      "{'name': 'PayLease', 'coord': {'coordinates': [-117.1851, 32.877483]}, 'rank': 162}\n",
      "{'name': 'The Television Writers Vault', 'coord': {'coordinates': [-116.995957, 33.228284]}, 'rank': 125}\n",
      "{'name': 'Otay Mesa Data Center', 'coord': {'coordinates': [-116.9573802, 32.5589698]}, 'rank': 112}\n"
     ]
    }
   ],
   "source": [
    "# List of Offices in San Diego, where we plan to set up our office. We choose this city because the foursquare API \n",
    "# only allows us to do 950 requests a day.\n",
    "# For each office we need to do 7 requests (one per each foursquare function). So the maximum amount of offices we \n",
    "# can ask in a day is 950/7 =135. We have filtered in MongoDB the offices by cities and found that San Diego has \n",
    "# 114 different documents(offices), so we can find the most suitable office within this city by checking all \n",
    "# the offices in it.\n",
    "\n",
    "filter_query = {\"offices.city\": \"San Diego\"}\n",
    "project_query = {\"_id\": 1, \"coord.coordinates\":1}\n",
    "san_diego_offices = offices.find(filter_query,project_query).sort(\"name\",1)\n",
    "\n",
    "for office in san_diego_offices:\n",
    "    latitude = office[\"coord\"][\"coordinates\"][1]    \n",
    "    longitude = office[\"coord\"][\"coordinates\"][0]\n",
    "    rank = 0\n",
    "    \n",
    "# below you can see the score we have considered for each condition within the function. This increments the rank\n",
    "# so at the end, when we sort descending the rank, we would be able to see the highest score and the first one \n",
    "# would be the most suitable office according to our requirements.\n",
    "\n",
    "    education_places_count = len(education_within_2km(latitude, longitude)) #API Foursquare\n",
    "    if education_places_count > 3:\n",
    "        rank += 90\n",
    "    elif education_places_count > 0:\n",
    "        rank += 60\n",
    "\n",
    "    startups_places_count = len(startups_raised_over_1m_within_2km(latitude, longitude)) #MongoDB\n",
    "    if startups_places_count > 2:\n",
    "        rank += 85\n",
    "    elif startups_places_count > 0:\n",
    "        rank += 50\n",
    "\n",
    "    designers_places_count = len(game_design_companies_within_2km(latitude, longitude)) #MongoDB\n",
    "    if designers_places_count > 2:\n",
    "        rank += 75\n",
    "    elif designers_places_count > 0:\n",
    "        rank += 45\n",
    "\n",
    "    nightlife_places_count = len(nightlife_spots_within_2km(latitude, longitude)) #API Foursquare\n",
    "    if nightlife_places_count > 7:\n",
    "        rank += 70\n",
    "    elif nightlife_places_count > 3:\n",
    "        rank += 50\n",
    "    elif nightlife_places_count > 0:\n",
    "        rank += 20\n",
    "\n",
    "    starbucks_places_count = len(starbucks_within_1km(latitude,longitude)) #API Foursquare\n",
    "    if starbucks_places_count > 1:\n",
    "        rank += 50\n",
    "    elif starbucks_places_count > 0:\n",
    "        rank += 20\n",
    "\n",
    "    airport_places_count = len(airports_within_25km(latitude,longitude)) #API Foursquare\n",
    "    if airport_places_count > 0:\n",
    "        rank += 30\n",
    "\n",
    "    basketball_places_count = len(basketball_stadium_within_10km(latitude,longitude)) #API Foursquare\n",
    "    if basketball_places_count > 0:\n",
    "        rank += 12\n",
    "\n",
    "    pet_services_places_count = len(pet_services_within_1km(latitude,longitude)) #API Foursquare\n",
    "    if pet_services_places_count > 0:\n",
    "        rank += 10\n",
    "\n",
    "    vegan_places_count = len(vegan_restaurants_within_1km(latitude,longitude)) #API Foursquare\n",
    "    if vegan_places_count > 2:\n",
    "        rank += 15\n",
    "    if vegan_places_count > 1:\n",
    "        rank += 10\n",
    "    elif vegan_places_count > 0:\n",
    "        rank += 5\n",
    "\n",
    "    # cuando hayamos comprabado todas las restricciones, rank tendrá el valor final, el cual lo añadimos/actualizamos \n",
    "    # en el documento de mongo\n",
    "    filt = {\"_id\":office[\"_id\"]}\n",
    "    update = {\"$set\":{\"rank\": rank}}\n",
    "    offices.update_one(filt, update)\n",
    "    \n",
    "# Una vez ya hemos iterado sobre todas las oficinas y las hemos rankeado, hacemos una query para devolverlas\n",
    "# ordenadas desc for rank y esas son las \"soluciones\" para las restricciones/baremación que hemos definido.\n",
    "project_query = {\"_id\": 0, \"name\": 1, \"coord.coordinates\":1, \"rank\": 1}\n",
    "for san_diego_offices_with_rank in offices.find(filter_query,project_query).sort(\"rank\",-1):\n",
    "    print(san_diego_offices_with_rank)"
   ]
  },
  {
   "cell_type": "code",
   "execution_count": null,
   "metadata": {},
   "outputs": [],
   "source": [
    "# Curiosamente, la oficina que mejor puntuacion tiene (447) no está situada en la ciudad de San Diego, sino en Boston. \n",
    "# Por algun motivo, se ha definido en la base de datos \"companies\" de manera errónea. Nosotros aun asi tomamos esa \n",
    "# oficina pues es la que tiene mejor puntuación."
   ]
  }
 ],
 "metadata": {
  "kernelspec": {
   "display_name": "Python 3",
   "language": "python",
   "name": "python3.8"
  },
  "language_info": {
   "codemirror_mode": {
    "name": "ipython",
    "version": 3
   },
   "file_extension": ".py",
   "mimetype": "text/x-python",
   "name": "python",
   "nbconvert_exporter": "python",
   "pygments_lexer": "ipython3",
   "version": "3.8.6"
  }
 },
 "nbformat": 4,
 "nbformat_minor": 4
}
